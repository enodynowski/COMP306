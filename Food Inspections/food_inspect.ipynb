{
 "cells": [
  {
   "attachments": {},
   "cell_type": "markdown",
   "metadata": {},
   "source": [
    "### Deliverables 2 and 3"
   ]
  },
  {
   "cell_type": "code",
   "execution_count": 27,
   "metadata": {},
   "outputs": [
    {
     "name": "stderr",
     "output_type": "stream",
     "text": [
      "WARNING:root:Requests made without an app_token will be subject to strict throttling limits.\n"
     ]
    },
    {
     "name": "stdout",
     "output_type": "stream",
     "text": [
      "                    dba_name license_ facility_type               address    zip        inspection_type results  \\\n",
      "1   TOP-NOTCH BEEFBURGER INC    50905    restaurant  2114-2116 W 95TH ST   60643                Canvass    fail   \n",
      "3                     SUBWAY  1766064    restaurant    5853 S KEDZIE AVE   60629                Canvass    pass   \n",
      "7                     SBARRO  2882176    restaurant     500 W MADISON ST   60661                License    pass   \n",
      "8                 YAO'S CAFE  2835735    restaurant        601 W 43RD ST   60609  Canvass Re-Inspection    pass   \n",
      "13    HALE FAMILY MCDONALD'S  2771132    restaurant       1951 E 95th ST   60617              Complaint    fail   \n",
      "\n",
      "                                                                                                                                                                                                                                                                                                                                                                                                                                                                                                                                                                                                                                                                                                                                                                                                                                                                                                                                                                                                                                                                                                                                                                                                                                                                                                                                                                                                                                                                                                                                                                                                                                                                                                                                                                                                                                                                                                                                                                                                                                                                                                                                                                                                                                                                                                                                                                                                                                                                                                                                                                                                                                                                                                                                                                                                                                                                                                                                                                                                                                                                                                                                                                                                                                                                                                                                                                                                                                                                                                                                                                                                                                                                                                                                                                                                                                                                                                                                                                                                                                                                                                                                                                                                                                                                                                                                                                                                                                                                                                                                                                                                                                                                                                                                                                                                                                                                                                                                                                                                                                                                                                                                                                                                                                                                                                                                                                                                                                                                                                                         violations  \\\n",
      "1                                                                                                                                                                                                                                                                                                                                                                                                                                                                                                                                                                                                                                                                                                                                                                                                                                                                                                                                                                                                                                                                                                                                                                                                                                                                                                                                                                                                                                                                                                                                                                                                                                                                                                                                                                                                                                                                                                                                                                                                                                                                                                                                                                                                                                                                                                                                                                                                                                                                                                                                                                                                                                                                                                                                                                                                                                                                                                                                                                                                                                                                                                                                                                                                                                                                                                                                                                                                                                                                                                                                                                                                                                                                                                                                                                                                                                                                                                                                                                                                                                                                                                                                                                                                                                                                                                                                                                     25. CONSUMER ADVISORY PROVIDED FOR RAW/UNDERCOOKED FOOD - Comments: OBSERVED NO CONSUMER ADVISORY AND DISCLOSURE ON BREAKFAST AND LUNCH MENU. INSTRUCTED MANAGER TO PROVIDE. PRIORITY FOUNDATION 7-38-005 | 39. CONTAMINATION PREVENTED DURING FOOD PREPARATION, STORAGE & DISPLAY - Comments: OBSERVED FOOD ITEMS NOT COVERED IN COOLERS. INSTRUCTED MANAGER TO COVER ALL FOOD ITEMS TO PROTECT FROM CONTAMINATION. | 41. WIPING CLOTHS: PROPERLY USED & STORED - Comments: OBSERVED SOILED WIPING CLOTHS STORED ON PREP TABLES. INSTRUCTED MANAGER TO STORE WIPING CLOTHS IN SANITIZING SOLUTION BETWEEN USES. | 45. SINGLE-USE/SINGLE-SERVICE ARTICLES: PROPERLY STORED & USED - Comments: OBSERVED SINGLE SERVICE CONTAINERS NOT INVERTED IN PREP AREA. INSTRUCTED MANAGER TO INVERT ALL SINGLE SERVICE ARTICLES TO PROTECT FROM CONTAMINATION. | 49. NON-FOOD/FOOD CONTACT SURFACES CLEAN - Comments: OBSERVED RESIDUE ON INTERIOR SURFACE OF ICE MACHINE, ACCUMULATED FOOD DEBRIS AND SPILLS ON INTERIOR AND EXTERIOR SURFACES OF SHAKE MIXER, FRYERS, GRILL, COOLERS, FREEZERS, PREP TABLES, SHELVING UNITS. INSTRUCTED MANAGER TO CLEAN AND MAINTAIN.   \n",
      "3                                                                                                                                                                                                                                                                                                                                                                                                                                                                                                                                                                                                                                                                                                                                                                                                                                                                                                                                                                                                                                                                                                                                                                                                                                                                                                                                                                                                                                                                                                                                                                                                                                                                                                                                                                                                                                                                                                                                                                                                                                                                                                                                                                                                                                                                                                                                                                                                                                                                                                                                                                                                                                                                                                                                                                                                                                                                                                                                                                                                                                                                                                                                                                                                                                                                                                                                                                                                                                                                                                                                                                                                                                                                                                                                                                                                                                                                                                                                                                                                                                                                                                                                                                                                                                                                                                                                                                                                                                                                                                                                                                                                                                                                                                                                                                                                                                                                        43. IN-USE UTENSILS: PROPERLY STORED - Comments: KNIVES IMPROPERLY STORED IN CONTAINER OF SANITIZING SOLUTION AT SANDWICH PREP LINE. INSTD TO STORE PROPERLY (I.E in hot water 135F OR above , on a clean portion of the FOOD preparation table only if the in-use utensil and the food contact surface of the FOOD preparation table is cleaned and sanitized at a specified frequency, or in a protected manner) | 47. FOOD & NON-FOOD CONTACT SURFACES CLEANABLE, PROPERLY DESIGNED, CONSTRUCTED & USED - Comments: PLASTIC LINING ON BOTTOM SHELF OF PREP TABLE. INSTD TO REMOVE PLASTIC LINING SO AS SURFACE TO BE A SMOOTH, EVEN, AND EASILY SURFACE   \n",
      "7                                                                                                                                                                                                                                                                                                                                                                                                                                                                                                                                                                                                                                                                                                                                                                                                                                                                                                                                                                                                                                                                                                                                                                                                                                                                                                                                                                                                                                                                                                                                                                                                                                                                                                                                                                                                                                                                                                                                                                                                                                                                                                                                                                                                                                                                                                                                                                                                                                                                                                                                                                                                                                                                                                                                                                                                                                                                                                                                                                                                                                                                                                                                                                                                                                                                                                                                                                                                                                                                                                                                                                                                                                                                                                                                                                                                                                                                                                                                                                                                                                                                                                                                                                                                                                                                                                                                                                                                                                                                                                                                                                                                                                                                                                                                                                                                                                                                                                                                                                                                                                                                                                                                                                                                                                                                                                                                                                                                                                                                                                                               NaN   \n",
      "8                                                                                                                                                                                                                                                                                                                                                                                                                                                                                                                                                                                                                                                                                                                                                                                                                                                                                                                                                                                                                                                                                                                                                                                                                                                                                                                                                                                                                                                                                                                                                                                                                                                                                                                                                                                                                                                                                                                                                                                                                                                                                                                                                                                                                                                                                                                                                                                                                                                                                                                                                                                                                                                                                                                                                                                                                                                                                                                                                                                                                                                                                                                                                                                                                                                                                                                                                                                                                                                                                                                                                                                                                                                                                                                                                                                                                                                                                                                                                                                                                                                                                                                                                                                                                                                                                                                                                                                                                                                                                                                                                                                                                                                                                                                                                                                                                                                                                                                                                                                                                                                                                                                                                                                                                                                                                                    39. CONTAMINATION PREVENTED DURING FOOD PREPARATION, STORAGE & DISPLAY - Comments: OBSERVED FOOD ITEMS(NOODLES) STORED ON THE FLOOR IN THE WALK IN COOLER. INSTRUCTED MANAGER TO ELEVATE ALL FOOD ITEMS SIX INCHES FROM FLOOR.   \n",
      "13  1. PERSON IN CHARGE PRESENT, DEMONSTRATES KNOWLEDGE, AND PERFORMS DUTIES - Comments: PIC DOESN'T HAVE A CERTIFIED FOOD MANAGERS CERTIFICATE.MUST PROVIDE AND MAINTAIN.(PRIORITY FOUNDATION 7-38-012) | 2. CITY OF CHICAGO FOOD SERVICE SANITATION CERTIFICATE - Comments: OBSERVED NO CERTIFIED FOOD MANAGER ON DUTY WHILE TCS FOODS ARE BEING PREPARED,HANDLED AND SERVED SUCH AS (FISH,HAMBURGERS,CHICKEN,ETC)MUST BE ON SITE AT ALL TIMES.(PRIORITY FOUNDATION 7-38-012)(CITATION ISSUED) | 9. NO BARE HAND CONTACT WITH RTE FOOD OR A PRE-APPROVED ALTERNATIVE PROCEDURE PROPERLY ALLOWED - Comments: OBSERVED MALE FOOD HANDLER WITH BARE HANDS TOUCH READY TO EAT TCS FOODS.HE GRASP THE BAG WITH HIS HAND CUPPED ON TOP OF FRENCH FRIES AND PLACED IN BAG TO BE SERVED TO CUSTOMER.PRODUCT WAS DISCARDED BY MANAGER .MUST PROVIDE GLOVES ,DELI PAPER FOR HANDLING READY TO EAT FOODS.(PRIORITY 7-38-010)(COS)(CITATION ISSUED) | 10. ADEQUATE HANDWASHING SINKS PROPERLY SUPPLIED AND ACCESSIBLE - Comments: OBSERVED FRONT AND REAR HAND SINKS NOT ACCESSIBLE.THE FRONT HAND SINK HAD ROLLING CARTS WITH SANITIZER BUCKETS STORED IN FRONT OF SAID SINK AND REAR HAD A PLASTIC SPRAY BOTTLE IN BASIN. MUST KEEP HAND SINKS ACCESSIBLE AT ALL TIMES.(PRIORITY FOUNDATION 7-38-030(C)(COS)(CITATION ISSUED) | 10. ADEQUATE HANDWASHING SINKS PROPERLY SUPPLIED AND ACCESSIBLE - Comments: OBSERVED NO HAND WASHING SINK IN REAR DISH WASHING AREA MUST PROVIDE A SINK WITH HOT AND COLD RUNNING WATER,SOAP AND TOWELS.(PRIORITY FOUNDATION 7-38-030(C)(CONSOLIDATED VIOLATION) | 10. ADEQUATE HANDWASHING SINKS PROPERLY SUPPLIED AND ACCESSIBLE - Comments: OBSERVED WATER TEMPERATURE AT HAND SINKS IN MEN'S AT 49.3F AND WOMEN'S AT 56.5F.MUST HAVE HOT RUNNING WATER TEMPERATURE AT 100.0F .MUST REPAIR AND MAINTAIN.HOT RUNNING WATER IS NOW RESTORED AT HAND SINKS.(PRIORITY 7-38-030(C)(CITATION ISSUED)(COS) | 38. INSECTS, RODENTS, & ANIMALS NOT PRESENT - Comments: OBSERVED EVIDENCE OF AN INFESTATION OF APPX. 400 OR MORE MICE DROPPINGS SCATTERED IN VARIOUS AREAS SUCH AS AT FRONT SERVICE COUNTER ALONG WALL CONDUITS,INSIDE AND ON ELECTRICAL BOXES,ON SIDES OF REGISTER,ELECTRICAL BOX FOR HOT HOLDING EQUIPMENT,INSIDE OF FRENCH FRY FRYERS,ON LEDGES OF ROLLING CART,ON FLOOR BEHIND ICE MACHINE,ON FLOOR AND ON CHEMICALS IN CHEMICAL CLOSET.BREAK ROOM- INSIDE AND ON TOP OF UNUSED EQUIPMENT,ON TOP OF SUPPLIES AND PALLET,ON FLOOR NEXT TO AND BEHIND STAFF REFRIGERATOR..DRY STORAGE AREA-ON SHELVING UNITS AND FLOOR UNDER NEATH AND SLIDING STORAGE RACK,ON LANDING UNDER WALL HOT WATER TANK.DISH WASHING AREA-ON FLOOR UNDER SODA CADDY.LOBBY AREA-IN GARBAGE CAN CORRAL.DRIVE THRU- FRONT AND REAR ON FLOOR,ELECTRICAL BOX,SHELVING UNITS.ALSO OBSERVED A HARBORAGE /NESTING AREA INSIDE OF FRENCH FRY CABINETS WHERE INSULATION APPEARS TO BE GNAWED ON AND MICE DROPPINGS SCATTERED IN SAME AREA.MUST REMOVE DROPPINGS,CLEAN AND SANITIZE AREAS. MUST HAVE A PEST CONTROL OPERATOR TO SERVICE PREMISES ON OR AFTER 2/21/23.(PRIORITY 7-38-020(A)(CITATION ISSUED) | 38. INSECTS, RODENTS, & ANIMALS NOT PRESENT - Comments: OBSERVED A GAP ALONG BOTTOM OF REAR AND WEST PARKING LOT DOORS MUST MAKE DOORS TIGHT FITTING . | 39. CONTAMINATION PREVENTED DURING FOOD PREPARATION, STORAGE & DISPLAY - Comments: OBSERVED ICE BEING CONTAMINATED INSIDE OF ICE MACHINE BY FOOD HANDLER DURING STORAGE.OBSERVED MALE FOOD HANDLER SPARYING A CLEANING CHEMICAL INTO A TOWEL IN HIS HAND THAT WAS DRIPPING CHEMICAL FROM IT ON TO THE ICE AS HE'S WIPING INTERIOR PANEL WITH IT.PRODUCT (ICE)WAS DISCARDED BY MANAGER.MACHINE HAS BEEN CLEANED AND SAINTIZED DURING INSPECTION. (PRIORITY FOUNDATION 7-38-005)(COS)(CITATION ISSUED) | 39. CONTAMINATION PREVENTED DURING FOOD PREPARATION, STORAGE & DISPLAY - Comments: OBSERVED NO SPLASH GUARD AT FRONT HAND SINK ADJACENT TO FRENCH FRY HOLDING UNIT MUST PROVIDE AND MAINTAIN. | 46. GLOVES USED PROPERLY - Comments: OBSERVED MALE FOOD HANDLER NOT WEARING GLOVES WHILE HANDLING TCS FOODS.(COS) | 49. NON-FOOD/FOOD CONTACT SURFACES CLEAN - Comments: MUST CLEAN GREASE AND FOOD DEBRIS BUILD UP FROM INTERIOR AND EXTERIOR OF ALL COOLERS,GRILLS,USED AND UNUSED EQUIPMENT,COUNTER TOPS,PIPES AND WIRES OF ALL COOKING EQUIPMENT,ICE DISPENSERS ON SODA MACHINES,ICE BINS AND DRIP TRAY,ICE CREAM MACHINE,PREP SURFACES . | 51. PLUMBING INSTALLED; PROPER BACKFLOW DEVICES - Comments: MUST REPAIR OR REPLACE LEAKY BACKFLOW VALVES UNDER 3- COMPARTMENT SINK. | 53. TOILET FACILITIES: PROPERLY CONSTRUCTED, SUPPLIED, & CLEANED - Comments: MUST CLEAN DEBRIS BUILD UP ON TOILET FIXTURES IN BOTH TOILET ROOMS. | 55. PHYSICAL FACILITIES INSTALLED, MAINTAINED & CLEAN - Comments: MUST REPAIR OR REPLACE DAMAGED FLOOR TILE NEAR FRONT HAND SINK,HALLWAY OUTSIDE OF TOILET ROOMS AND MOPSINK IN SAME AREA,WALL IN POOR REPAIR IN MOPSINK CLOSET IN DINING AREA,GROUT FLOOR UNDER COOKING EQUIPMENT,DAMAGED AND MISSING WALL BASES NEAR REAR DOOR. | 55. PHYSICAL FACILITIES INSTALLED, MAINTAINED & CLEAN - Comments: MUST CLEAN GREASE , FOOD DEBRIS AND WATER BUILD UP FROM FLOOR UNDER,AROUND,ALONG WALL BASES THROUGHOUT PREMISES INCLUDING WALK IN COOLER AND FREEZER,MOPSINK CLOSET AND TOILET ROOMS,INCLUDING FLOOR DRAINS. | 56. ADEQUATE VENTILATION & LIGHTING; DESIGNATED AREAS USED - Comments: MUST REPAIR OR REPLACE CRACKED LIGHT SHIELD IN WALK IN COOLER,MISSING LIGHT SHIELD AND BULB IN WALK IN FREEZER.   \n",
      "\n",
      "              latitude           longitude  \n",
      "1   41.721144341728206  -87.67556517380507  \n",
      "3    41.78651025369379  -87.70320844306515  \n",
      "7    41.88199433820508   -87.6397586848809  \n",
      "8   41.816155082491385  -87.64088352173687  \n",
      "13   41.72235444829322  -87.57577806414749  \n"
     ]
    }
   ],
   "source": [
    "import pandas as pd\n",
    "from sodapy import Socrata\n",
    "import collections\n",
    "\n",
    "pd.set_option('display.width', 1505)\n",
    "pd.set_option('display.max_rows', 500)\n",
    "pd.set_option('display.max_columns', 500)\n",
    "pd.set_option('display.max_colwidth', None)\n",
    "\n",
    "# to read from local static copy\n",
    "#df = pd.read_csv(\"~/Downloads/Food_Inspections.csv\")\n",
    "# to pull most recent version and read from the SODA API\n",
    "client = Socrata(\"data.cityofchicago.org\", None)\n",
    "results = client.get(\"4ijn-s7e5\", limit=20000)\n",
    "results_df = pd.DataFrame.from_records(results)\n",
    "\n",
    "\n",
    "#Drop all rows that arent restauratnts, and those for which the facility type or the zip code are NaN\n",
    "results_df = results_df.dropna(subset=['facility_type', 'zip'])\n",
    "results_df['facility_type'] = results_df['facility_type'].str.lower()\n",
    "results_df['results'] = results_df['results'].str.lower()\n",
    "restaurants_only_bool = results_df['facility_type'].str.contains(\"rest\")\n",
    "\n",
    "\n",
    "\n",
    "#Drop all rows where the license is not > 0\n",
    "valid_license_bool = (results_df['license_'] != 0)\n",
    "failed_inspection_bool = (results_df['results'] == 'fail')\n",
    "passed_inspection_bool = (results_df['results'] == 'pass')\n",
    "restaurants_only_df = results_df[restaurants_only_bool & valid_license_bool & (failed_inspection_bool | passed_inspection_bool)]\n",
    "\n",
    "#Drop the columns that we dont really care about\n",
    "restaurants_only_df = restaurants_only_df.drop(columns=['inspection_id', 'aka_name', 'risk',\n",
    " 'city', 'state', 'inspection_date', 'location', \n",
    " ':@computed_region_awaf_s7ux', ':@computed_region_6mkv_f3dw', ':@computed_region_vrxf_vc4k',\n",
    " ':@computed_region_bdys_3d7i' ,':@computed_region_43wa_7qmu'])\n",
    "\n",
    "print(restaurants_only_df.head())\n"
   ]
  },
  {
   "attachments": {},
   "cell_type": "markdown",
   "metadata": {},
   "source": [
    "### Deliverable 4"
   ]
  },
  {
   "cell_type": "code",
   "execution_count": 10,
   "metadata": {},
   "outputs": [
    {
     "name": "stdout",
     "output_type": "stream",
     "text": [
      "22.413793103448278\n",
      "39.130434782608695\n"
     ]
    }
   ],
   "source": [
    "#create a new df that contains just the little india restaurants. Then get the counts of the passes and fails\n",
    "little_india_df = restaurants_only_df.loc[restaurants_only_df['zip']=='60659']\n",
    "little_india_failed = little_india_df['results'].value_counts()\n",
    "#find the percentage of the fails out of the totals\n",
    "little_india_fail_perc = little_india_failed['fail'] / little_india_failed.sum() * 100\n",
    "print(little_india_fail_perc)\n",
    "\n",
    "#Do the same as above but for Chinatown now. \n",
    "chinatown_df = restaurants_only_df.loc[restaurants_only_df['zip'] == '60608']\n",
    "chinatown_failed = chinatown_df['results'].value_counts()\n",
    "#get the percentage of the fails out of the totals. \n",
    "chinatown_fail_perc = chinatown_failed['fail'] / chinatown_failed.sum() * 100\n",
    "print(chinatown_fail_perc)\n",
    "\n",
    "#Chinatown has ~4% more fails than little india"
   ]
  },
  {
   "attachments": {},
   "cell_type": "markdown",
   "metadata": {},
   "source": [
    "### Deliverable 5\n",
    "What is the main reason for all the restaurant inspections on Devon"
   ]
  },
  {
   "cell_type": "code",
   "execution_count": 13,
   "metadata": {},
   "outputs": [
    {
     "name": "stdout",
     "output_type": "stream",
     "text": [
      "Canvass                    38\n",
      "Complaint                  21\n",
      "Canvass Re-Inspection      14\n",
      "License                    10\n",
      "Short Form Complaint        9\n",
      "Complaint Re-Inspection     7\n",
      "License Re-Inspection       4\n",
      "Name: inspection_type, dtype: int64\n"
     ]
    }
   ],
   "source": [
    "#Create a var that checks if the restaurant address is on Devon ave\n",
    "on_devon_bool = restaurants_only_df['address'].str.contains(\"DEVON\")\n",
    "#Use that bool to make a new dataframe\n",
    "rests_on_devon = restaurants_only_df[on_devon_bool]\n",
    "#print out the value counts for the reason of the ispection. The most common is Canvass, followed by Complaint and Re-Inspection\n",
    "print(rests_on_devon['inspection_type'].value_counts())"
   ]
  },
  {
   "attachments": {},
   "cell_type": "markdown",
   "metadata": {},
   "source": [
    "### Deliverable 6\n",
    "What is the main reason for all the restautant inspecitons on Cermak"
   ]
  },
  {
   "cell_type": "code",
   "execution_count": 14,
   "metadata": {},
   "outputs": [
    {
     "name": "stdout",
     "output_type": "stream",
     "text": [
      "Canvass                    38\n",
      "Complaint                  18\n",
      "Complaint Re-Inspection    10\n",
      "Canvass Re-Inspection       8\n",
      "License                     7\n",
      "Short Form Complaint        2\n",
      "License Re-Inspection       1\n",
      "Name: inspection_type, dtype: int64\n"
     ]
    }
   ],
   "source": [
    "#Create a var that checks if the restaurant address is on Cermak\n",
    "on_cermak_bool = restaurants_only_df['address'].str.contains(\"CERMAK\")\n",
    "#Use that bool to make a new dataframe\n",
    "rests_on_cermak = restaurants_only_df[on_cermak_bool]\n",
    "#print out the value counts for the reason of the ispection. The most common is Canvass, followed by Complaint and Re-Inspection\n",
    "print(rests_on_cermak['inspection_type'].value_counts())"
   ]
  },
  {
   "attachments": {},
   "cell_type": "markdown",
   "metadata": {},
   "source": [
    "### Deliverable 7\n",
    "What is the main reason for the failed restaurant inspections on Devon?"
   ]
  },
  {
   "cell_type": "code",
   "execution_count": 35,
   "metadata": {},
   "outputs": [
    {
     "name": "stdout",
     "output_type": "stream",
     "text": [
      "{'28': 1, '9.': 1, '8.': 1, '16': 1, '2.': 2, '37': 2, '38': 3, '3.': 4, '1.': 6, '10': 6}\n"
     ]
    }
   ],
   "source": [
    "# Get a var to check if the restaurant on devon failed and then make a new df with just the failed restaurants on Devon\n",
    "failed_on_devon_bool = rests_on_devon['results'] == 'fail'\n",
    "failed_on_devon = rests_on_devon[failed_on_devon_bool]\n",
    "#Create a series with each restaurants violations, as a list, split at the | characters\n",
    "vio_list = failed_on_devon['violations'].str.split('|')\n",
    "#create a list to store the reasons\n",
    "reasons = []\n",
    "#iterate over the failure reasons and append the reason to the reasons list\n",
    "for entry in vio_list:\n",
    "    reasons.append(entry[0][:2])\n",
    "\n",
    "#check the frequency of each reasona and store it as a dictionary\n",
    "reason_freq = collections.Counter(reasons)\n",
    "print(dict(sorted(reason_freq.items(), key=lambda item: item[1])))"
   ]
  },
  {
   "attachments": {},
   "cell_type": "markdown",
   "metadata": {},
   "source": [
    "### Deliverable 8\n",
    "What is the main reason for the failed restaurant inspections on Cermak"
   ]
  },
  {
   "cell_type": "code",
   "execution_count": 34,
   "metadata": {},
   "outputs": [
    {
     "name": "stdout",
     "output_type": "stream",
     "text": [
      "{'59': 1, '16': 1, '29': 1, '22': 1, '41': 1, '5.': 1, '25': 1, '2.': 2, '3.': 2, '10': 2, '37': 3, '1.': 3, '38': 4}\n"
     ]
    }
   ],
   "source": [
    "# Get a var to check if the restaurant on devon failed and then make a new df with just the failed restaurants on Cermak\n",
    "failed_on_cermak_bool = rests_on_cermak['results'] == 'fail'\n",
    "failed_on_cermak = rests_on_cermak[failed_on_cermak_bool]\n",
    "#Create a series with each restaurants violations, as a list, split at the | characters\n",
    "vio_list = failed_on_cermak['violations'].str.split('|')\n",
    "#create a list to store the reasons\n",
    "reasons = []\n",
    "#iterate over the failure reasons and append the reason to the reasons list\n",
    "for entry in vio_list:\n",
    "    reasons.append(entry[0][:2])\n",
    "\n",
    "#check the frequency of each reasona and store it as a dictionary\n",
    "reason_freq = collections.Counter(reasons)\n",
    "#Sort the frequency from least common to most\n",
    "print(dict(sorted(reason_freq.items(), key=lambda item: item[1])))"
   ]
  },
  {
   "attachments": {},
   "cell_type": "markdown",
   "metadata": {},
   "source": [
    "### Deliverable 9\n",
    "What is the most frequently failed restaurant on Devon"
   ]
  },
  {
   "cell_type": "code",
   "execution_count": null,
   "metadata": {},
   "outputs": [],
   "source": []
  },
  {
   "attachments": {},
   "cell_type": "markdown",
   "metadata": {},
   "source": [
    "### Deliverable 10\n",
    "What is the most frequently failed restaurank on Cermak"
   ]
  },
  {
   "cell_type": "code",
   "execution_count": null,
   "metadata": {},
   "outputs": [],
   "source": []
  },
  {
   "attachments": {},
   "cell_type": "markdown",
   "metadata": {},
   "source": [
    "### Deliverable 11\n",
    "What is the most frequently passed restaurant on Devon"
   ]
  },
  {
   "cell_type": "code",
   "execution_count": null,
   "metadata": {},
   "outputs": [],
   "source": []
  },
  {
   "attachments": {},
   "cell_type": "markdown",
   "metadata": {},
   "source": [
    "### Deliverable 12\n",
    "What is the most frequently passed restaurant on Cermak"
   ]
  }
 ],
 "metadata": {
  "kernelspec": {
   "display_name": "Python 3",
   "language": "python",
   "name": "python3"
  },
  "language_info": {
   "codemirror_mode": {
    "name": "ipython",
    "version": 3
   },
   "file_extension": ".py",
   "mimetype": "text/x-python",
   "name": "python",
   "nbconvert_exporter": "python",
   "pygments_lexer": "ipython3",
   "version": "3.9.6"
  },
  "orig_nbformat": 4,
  "vscode": {
   "interpreter": {
    "hash": "81794d4967e6c3204c66dcd87b604927b115b27c00565d3d43f05ba2f3a2cb0d"
   }
  }
 },
 "nbformat": 4,
 "nbformat_minor": 2
}
