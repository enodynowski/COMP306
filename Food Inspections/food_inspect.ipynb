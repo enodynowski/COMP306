{
 "cells": [
  {
   "cell_type": "code",
   "execution_count": 19,
   "metadata": {},
   "outputs": [
    {
     "name": "stderr",
     "output_type": "stream",
     "text": [
      "WARNING:root:Requests made without an app_token will be subject to strict throttling limits.\n"
     ]
    },
    {
     "name": "stdout",
     "output_type": "stream",
     "text": [
      "['inspection_id' 'dba_name' 'aka_name' 'license_' 'facility_type' 'risk'\n",
      " 'address' 'city' 'state' 'zip' 'inspection_date' 'inspection_type'\n",
      " 'results' 'latitude' 'longitude' 'location' ':@computed_region_awaf_s7ux'\n",
      " ':@computed_region_6mkv_f3dw' ':@computed_region_vrxf_vc4k'\n",
      " ':@computed_region_bdys_3d7i' ':@computed_region_43wa_7qmu' 'violations']\n"
     ]
    }
   ],
   "source": [
    "import pandas as pd\n",
    "from sodapy import Socrata\n",
    "\n",
    "pd.set_option('display.width', 1505)\n",
    "pd.set_option('display.max_rows', 500)\n",
    "pd.set_option('display.max_columns', 500)\n",
    "pd.set_option('display.max_colwidth', None)\n",
    "\n",
    "# to read from local static copy\n",
    "df = pd.read_csv(\"~/Downloads/Food_Inspections.csv\")\n",
    "# to pull most recent version and read from the SODA API\n",
    "client = Socrata(\"data.cityofchicago.org\", None)\n",
    "results = client.get(\"4ijn-s7e5\", limit=2000)\n",
    "results_df = pd.DataFrame.from_records(results)\n",
    "\n",
    "\n",
    "#Drop all rows that arent restauratnts, and those for which the facility type or the zip code are NaN\n",
    "results_df = results_df.dropna(subset=['facility_type', 'zip'])\n",
    "results_df['facility_type'] = results_df['facility_type'].str.lower()\n",
    "results_df['results'] = results_df['results'].str.lower()\n",
    "restaurants_only_bool = results_df['facility_type'].str.contains(\"rest\")\n",
    "\n",
    "\n",
    "\n",
    "#Drop all rows where the license is not > 0\n",
    "valid_license_bool = (results_df['license_'] != 0)\n",
    "failed_inspection_bool = (results_df['results'] == 'fail')\n",
    "passed_inspection_bool = (results_df['results'] == 'pass')\n",
    "restaurants_only_df = results_df[restaurants_only_bool & valid_license_bool & (failed_inspection_bool | passed_inspection_bool)]\n",
    "\n",
    "#Drop the columns that we dont really care about\n",
    "restaurants_only_df = restaurants_only_df.drop(columns=['inspection_id', 'aka_name', 'risk',\n",
    " 'address', 'city', 'state','zip', 'inspection_date', 'inspection_type', 'location', \n",
    " ':@computed_region_awaf_s7ux', ':@computed_region_6mkv_f3dw', ':@computed_region_vrxf_vc4k',\n",
    " ':@computed_region_bdys_3d7i' ,':@computed_region_43wa_7qmu'])\n",
    "\n",
    "\n",
    "print(restaurants_only_df.head())\n",
    "\n"
   ]
  }
 ],
 "metadata": {
  "kernelspec": {
   "display_name": "Python 3",
   "language": "python",
   "name": "python3"
  },
  "language_info": {
   "codemirror_mode": {
    "name": "ipython",
    "version": 3
   },
   "file_extension": ".py",
   "mimetype": "text/x-python",
   "name": "python",
   "nbconvert_exporter": "python",
   "pygments_lexer": "ipython3",
   "version": "3.9.10"
  },
  "orig_nbformat": 4,
  "vscode": {
   "interpreter": {
    "hash": "3a0bb4e934c56993f4404e49315131ab8abffe262d6e7aadebe21660275afb4b"
   }
  }
 },
 "nbformat": 4,
 "nbformat_minor": 2
}
