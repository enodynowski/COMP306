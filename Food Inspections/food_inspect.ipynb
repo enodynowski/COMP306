{
 "cells": [
  {
   "cell_type": "code",
   "execution_count": 7,
   "metadata": {},
   "outputs": [
    {
     "name": "stderr",
     "output_type": "stream",
     "text": [
      "WARNING:root:Requests made without an app_token will be subject to strict throttling limits.\n"
     ]
    },
    {
     "name": "stdout",
     "output_type": "stream",
     "text": [
      "      results          inspection_date                                                                                                                                                                                                                                                                                                                                                                                                                                                                                                                           violations\n",
      "15299    Pass  2022-03-18T00:00:00.000  39. CONTAMINATION PREVENTED DURING FOOD PREPARATION, STORAGE & DISPLAY - Comments: INSTRUCTED TO CLEAN, REORGANIZE REAR STORAGE ROOM. FOOD AND NON FOOD ITEMS MUST BE STORED 6\" OFF THE FLOOR FOR EASY ACCESS ON CLEANING | 55. PHYSICAL FACILITIES INSTALLED, MAINTAINED & CLEAN - Comments: NOTED CARDBOARDS ON FLOOR IN REAR PREP/COOKING AREA. INSTRUCTED TO REMOVE. | 55. PHYSICAL FACILITIES INSTALLED, MAINTAINED & CLEAN - Comments: NOTED CEILING BY THE FRONT WINDOW ABOVE DINING AREA IN POOR REPAIR. INSTRUCTED TO FIX.\n",
      "results\n",
      "Pass       1\n",
      "dtype: int64\n"
     ]
    }
   ],
   "source": [
    "import pandas as pd\n",
    "from sodapy import Socrata\n",
    "\n",
    "pd.set_option('display.width', 1505)\n",
    "pd.set_option('display.max_rows', 500)\n",
    "pd.set_option('display.max_columns', 500)\n",
    "pd.set_option('display.max_colwidth', None)\n",
    "\n",
    "# to read from local static copy\n",
    "df = pd.read_csv(\"~/Downloads/Food_Inspections.csv\")\n",
    "# to pull most recent version and read from the SODA API\n",
    "client = Socrata(\"data.cityofchicago.org\", None)\n",
    "results = client.get(\"4ijn-s7e5\", limit=20000)\n",
    "results_df = pd.DataFrame.from_records(results)\n",
    "\n",
    "#fetch a restaurant by name\n",
    "han_bat = results_df.loc[results_df['dba_name'] == 'HAN BAT RESTAURANT']\n",
    "counts = han_bat[['results']].value_counts()\n",
    "#fails = han_bat.loc[df['Results'0]=='Fail']\n",
    "print (han_bat[['results','inspection_date','violations']])\n",
    "print(counts)\n"
   ]
  }
 ],
 "metadata": {
  "kernelspec": {
   "display_name": "Python 3",
   "language": "python",
   "name": "python3"
  },
  "language_info": {
   "codemirror_mode": {
    "name": "ipython",
    "version": 3
   },
   "file_extension": ".py",
   "mimetype": "text/x-python",
   "name": "python",
   "nbconvert_exporter": "python",
   "pygments_lexer": "ipython3",
   "version": "3.10.8"
  },
  "orig_nbformat": 4,
  "vscode": {
   "interpreter": {
    "hash": "b0fa6594d8f4cbf19f97940f81e996739fb7646882a419484c72d19e05852a7e"
   }
  }
 },
 "nbformat": 4,
 "nbformat_minor": 2
}
